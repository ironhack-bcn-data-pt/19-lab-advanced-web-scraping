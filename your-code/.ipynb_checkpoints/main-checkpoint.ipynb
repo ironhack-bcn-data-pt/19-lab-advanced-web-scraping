{
 "cells": [
  {
   "cell_type": "markdown",
   "metadata": {},
   "source": [
    "# Advanced Web Scraping Lab\n",
    "\n",
    "In this lab you will first learn the following code snippet which is a simple web spider class that allows you to scrape paginated webpages. Read the code, run it, and make sure you understand how it works. In the challenges of this lab, we will guide you in building up this class so that eventually you will have a more robust web spider that you can further work on in the Web Scraping Project."
   ]
  },
  {
   "cell_type": "code",
   "execution_count": 1,
   "metadata": {
    "scrolled": true
   },
   "outputs": [
    {
     "name": "stdout",
     "output_type": "stream",
     "text": [
      "b'<!DOCTYPE html>\\n<html lang=\"en\">\\n<head>\\n\\t<meta charset=\"UTF-8\">\\n\\t<title>Quotes to Scrape</title>\\n    <link rel=\"stylesheet\" href=\"/static/bootstrap.min.css\">\\n    <link rel=\"stylesheet\" href=\"/static/main.css\">\\n</head>\\n<body>\\n    <div class=\"container\">\\n        <div class=\"row header-box\">\\n            <div class=\"col-md-8\">\\n                <h1>\\n                    <a href=\"/\" style=\"text-decoration: none\">Quotes to Scrape</a>\\n                </h1>\\n            </div>\\n            <div class=\"col-md-4\">\\n                <p>\\n                \\n                    <a href=\"/login\">Login</a>\\n                \\n                </p>\\n            </div>\\n        </div>\\n    \\n\\n<div class=\"row\">\\n    <div class=\"col-md-8\">\\n\\n    <div class=\"quote\" itemscope itemtype=\"http://schema.org/CreativeWork\">\\n        <span class=\"text\" itemprop=\"text\">\\xe2\\x80\\x9cThe world as we have created it is a process of our thinking. It cannot be changed without changing our thinking.\\xe2\\x80\\x9d</span>\\n        <span>by <small class=\"author\" itemprop=\"author\">Albert Einstein</small>\\n        <a href=\"/author/Albert-Einstein\">(about)</a>\\n        </span>\\n        <div class=\"tags\">\\n            Tags:\\n            <meta class=\"keywords\" itemprop=\"keywords\" content=\"change,deep-thoughts,thinking,world\" /    > \\n            \\n            <a class=\"tag\" href=\"/tag/change/page/1/\">change</a>\\n            \\n            <a class=\"tag\" href=\"/tag/deep-thoughts/page/1/\">deep-thoughts</a>\\n            \\n            <a class=\"tag\" href=\"/tag/thinking/page/1/\">thinking</a>\\n            \\n            <a class=\"tag\" href=\"/tag/world/page/1/\">world</a>\\n            \\n        </div>\\n    </div>\\n\\n    <div class=\"quote\" itemscope itemtype=\"http://schema.org/CreativeWork\">\\n        <span class=\"text\" itemprop=\"text\">\\xe2\\x80\\x9cIt is our choices, Harry, that show what we truly are, far more than our abilities.\\xe2\\x80\\x9d</span>\\n        <span>by <small class=\"author\" itemprop=\"author\">J.K. Rowling</small>\\n        <a href=\"/author/J-K-Rowling\">(about)</a>\\n        </span>\\n        <div class=\"tags\">\\n            Tags:\\n            <meta class=\"keywords\" itemprop=\"keywords\" content=\"abilities,choices\" /    > \\n            \\n            <a class=\"tag\" href=\"/tag/abilities/page/1/\">abilities</a>\\n            \\n            <a class=\"tag\" href=\"/tag/choices/page/1/\">choices</a>\\n            \\n        </div>\\n    </div>\\n\\n    <div class=\"quote\" itemscope itemtype=\"http://schema.org/CreativeWork\">\\n        <span class=\"text\" itemprop=\"text\">\\xe2\\x80\\x9cThere are only two ways to live your life. One is as though nothing is a miracle. The other is as though everything is a miracle.\\xe2\\x80\\x9d</span>\\n        <span>by <small class=\"author\" itemprop=\"author\">Albert Einstein</small>\\n        <a href=\"/author/Albert-Einstein\">(about)</a>\\n        </span>\\n        <div class=\"tags\">\\n            Tags:\\n            <meta class=\"keywords\" itemprop=\"keywords\" content=\"inspirational,life,live,miracle,miracles\" /    > \\n            \\n            <a class=\"tag\" href=\"/tag/inspirational/page/1/\">inspirational</a>\\n            \\n            <a class=\"tag\" href=\"/tag/life/page/1/\">life</a>\\n            \\n            <a class=\"tag\" href=\"/tag/live/page/1/\">live</a>\\n            \\n            <a class=\"tag\" href=\"/tag/miracle/page/1/\">miracle</a>\\n            \\n            <a class=\"tag\" href=\"/tag/miracles/page/1/\">miracles</a>\\n            \\n        </div>\\n    </div>\\n\\n    <div class=\"quote\" itemscope itemtype=\"http://schema.org/CreativeWork\">\\n        <span class=\"text\" itemprop=\"text\">\\xe2\\x80\\x9cThe person, be it gentleman or lady, who has not pleasure in a good novel, must be intolerably stupid.\\xe2\\x80\\x9d</span>\\n        <span>by <small class=\"author\" itemprop=\"author\">Jane Austen</small>\\n        <a href=\"/author/Jane-Austen\">(about)</a>\\n        </span>\\n        <div class=\"tags\">\\n            Tags:\\n            <meta class=\"keywords\" itemprop=\"keywords\" content=\"aliteracy,books,classic,humor\" /    > \\n            \\n            <a class=\"tag\" href=\"/tag/aliteracy/page/1/\">aliteracy</a>\\n            \\n            <a class=\"tag\" href=\"/tag/books/page/1/\">books</a>\\n            \\n            <a class=\"tag\" href=\"/tag/classic/page/1/\">classic</a>\\n            \\n            <a class=\"tag\" href=\"/tag/humor/page/1/\">humor</a>\\n            \\n        </div>\\n    </div>\\n\\n    <div class=\"quote\" itemscope itemtype=\"http://schema.org/CreativeWork\">\\n        <span class=\"text\" itemprop=\"text\">\\xe2\\x80\\x9cImperfection is beauty, madness is genius and it&#39;s better to be absolutely ridiculous than absolutely boring.\\xe2\\x80\\x9d</span>\\n        <span>by <small class=\"author\" itemprop=\"author\">Marilyn Monroe</small>\\n        <a href=\"/author/Marilyn-Monroe\">(about)</a>\\n        </span>\\n        <div class=\"tags\">\\n            Tags:\\n            <meta class=\"keywords\" itemprop=\"keywords\" content=\"be-yourself,inspirational\" /    > \\n            \\n            <a class=\"tag\" href=\"/tag/be-yourself/page/1/\">be-yourself</a>\\n            \\n            <a class=\"tag\" href=\"/tag/inspirational/page/1/\">inspirational</a>\\n            \\n        </div>\\n    </div>\\n\\n    <div class=\"quote\" itemscope itemtype=\"http://schema.org/CreativeWork\">\\n        <span class=\"text\" itemprop=\"text\">\\xe2\\x80\\x9cTry not to become a man of success. Rather become a man of value.\\xe2\\x80\\x9d</span>\\n        <span>by <small class=\"author\" itemprop=\"author\">Albert Einstein</small>\\n        <a href=\"/author/Albert-Einstein\">(about)</a>\\n        </span>\\n        <div class=\"tags\">\\n            Tags:\\n            <meta class=\"keywords\" itemprop=\"keywords\" content=\"adulthood,success,value\" /    > \\n            \\n            <a class=\"tag\" href=\"/tag/adulthood/page/1/\">adulthood</a>\\n            \\n            <a class=\"tag\" href=\"/tag/success/page/1/\">success</a>\\n            \\n            <a class=\"tag\" href=\"/tag/value/page/1/\">value</a>\\n            \\n        </div>\\n    </div>\\n\\n    <div class=\"quote\" itemscope itemtype=\"http://schema.org/CreativeWork\">\\n        <span class=\"text\" itemprop=\"text\">\\xe2\\x80\\x9cIt is better to be hated for what you are than to be loved for what you are not.\\xe2\\x80\\x9d</span>\\n        <span>by <small class=\"author\" itemprop=\"author\">Andr\\xc3\\xa9 Gide</small>\\n        <a href=\"/author/Andre-Gide\">(about)</a>\\n        </span>\\n        <div class=\"tags\">\\n            Tags:\\n            <meta class=\"keywords\" itemprop=\"keywords\" content=\"life,love\" /    > \\n            \\n            <a class=\"tag\" href=\"/tag/life/page/1/\">life</a>\\n            \\n            <a class=\"tag\" href=\"/tag/love/page/1/\">love</a>\\n            \\n        </div>\\n    </div>\\n\\n    <div class=\"quote\" itemscope itemtype=\"http://schema.org/CreativeWork\">\\n        <span class=\"text\" itemprop=\"text\">\\xe2\\x80\\x9cI have not failed. I&#39;ve just found 10,000 ways that won&#39;t work.\\xe2\\x80\\x9d</span>\\n        <span>by <small class=\"author\" itemprop=\"author\">Thomas A. Edison</small>\\n        <a href=\"/author/Thomas-A-Edison\">(about)</a>\\n        </span>\\n        <div class=\"tags\">\\n            Tags:\\n            <meta class=\"keywords\" itemprop=\"keywords\" content=\"edison,failure,inspirational,paraphrased\" /    > \\n            \\n            <a class=\"tag\" href=\"/tag/edison/page/1/\">edison</a>\\n            \\n            <a class=\"tag\" href=\"/tag/failure/page/1/\">failure</a>\\n            \\n            <a class=\"tag\" href=\"/tag/inspirational/page/1/\">inspirational</a>\\n            \\n            <a class=\"tag\" href=\"/tag/paraphrased/page/1/\">paraphrased</a>\\n            \\n        </div>\\n    </div>\\n\\n    <div class=\"quote\" itemscope itemtype=\"http://schema.org/CreativeWork\">\\n        <span class=\"text\" itemprop=\"text\">\\xe2\\x80\\x9cA woman is like a tea bag; you never know how strong it is until it&#39;s in hot water.\\xe2\\x80\\x9d</span>\\n        <span>by <small class=\"author\" itemprop=\"author\">Eleanor Roosevelt</small>\\n        <a href=\"/author/Eleanor-Roosevelt\">(about)</a>\\n        </span>\\n        <div class=\"tags\">\\n            Tags:\\n            <meta class=\"keywords\" itemprop=\"keywords\" content=\"misattributed-eleanor-roosevelt\" /    > \\n            \\n            <a class=\"tag\" href=\"/tag/misattributed-eleanor-roosevelt/page/1/\">misattributed-eleanor-roosevelt</a>\\n            \\n        </div>\\n    </div>\\n\\n    <div class=\"quote\" itemscope itemtype=\"http://schema.org/CreativeWork\">\\n        <span class=\"text\" itemprop=\"text\">\\xe2\\x80\\x9cA day without sunshine is like, you know, night.\\xe2\\x80\\x9d</span>\\n        <span>by <small class=\"author\" itemprop=\"author\">Steve Martin</small>\\n        <a href=\"/author/Steve-Martin\">(about)</a>\\n        </span>\\n        <div class=\"tags\">\\n            Tags:\\n            <meta class=\"keywords\" itemprop=\"keywords\" content=\"humor,obvious,simile\" /    > \\n            \\n            <a class=\"tag\" href=\"/tag/humor/page/1/\">humor</a>\\n            \\n            <a class=\"tag\" href=\"/tag/obvious/page/1/\">obvious</a>\\n            \\n            <a class=\"tag\" href=\"/tag/simile/page/1/\">simile</a>\\n            \\n        </div>\\n    </div>\\n\\n    <nav>\\n        <ul class=\"pager\">\\n            \\n            \\n            <li class=\"next\">\\n                <a href=\"/page/2/\">Next <span aria-hidden=\"true\">&rarr;</span></a>\\n            </li>\\n            \\n        </ul>\\n    </nav>\\n    </div>\\n    <div class=\"col-md-4 tags-box\">\\n        \\n            <h2>Top Ten tags</h2>\\n            \\n            <span class=\"tag-item\">\\n            <a class=\"tag\" style=\"font-size: 28px\" href=\"/tag/love/\">love</a>\\n            </span>\\n            \\n            <span class=\"tag-item\">\\n            <a class=\"tag\" style=\"font-size: 26px\" href=\"/tag/inspirational/\">inspirational</a>\\n            </span>\\n            \\n            <span class=\"tag-item\">\\n            <a class=\"tag\" style=\"font-size: 26px\" href=\"/tag/life/\">life</a>\\n            </span>\\n            \\n            <span class=\"tag-item\">\\n            <a class=\"tag\" style=\"font-size: 24px\" href=\"/tag/humor/\">humor</a>\\n            </span>\\n            \\n            <span class=\"tag-item\">\\n            <a class=\"tag\" style=\"font-size: 22px\" href=\"/tag/books/\">books</a>\\n            </span>\\n            \\n            <span class=\"tag-item\">\\n            <a class=\"tag\" style=\"font-size: 14px\" href=\"/tag/reading/\">reading</a>\\n            </span>\\n            \\n            <span class=\"tag-item\">\\n            <a class=\"tag\" style=\"font-size: 10px\" href=\"/tag/friendship/\">friendship</a>\\n            </span>\\n            \\n            <span class=\"tag-item\">\\n            <a class=\"tag\" style=\"font-size: 8px\" href=\"/tag/friends/\">friends</a>\\n            </span>\\n            \\n            <span class=\"tag-item\">\\n            <a class=\"tag\" style=\"font-size: 8px\" href=\"/tag/truth/\">truth</a>\\n            </span>\\n            \\n            <span class=\"tag-item\">\\n            <a class=\"tag\" style=\"font-size: 6px\" href=\"/tag/simile/\">simile</a>\\n            </span>\\n            \\n        \\n    </div>\\n</div>\\n\\n    </div>\\n    <footer class=\"footer\">\\n        <div class=\"container\">\\n            <p class=\"text-muted\">\\n                Quotes by: <a href=\"https://www.goodreads.com/quotes\">GoodReads.com</a>\\n            </p>\\n            <p class=\"copyright\">\\n                Made with <span class=\\'sh-red\\'>\\xe2\\x9d\\xa4</span> by <a href=\"https://scrapinghub.com\">Scrapinghub</a>\\n            </p>\\n        </div>\\n    </footer>\\n</body>\\n</html>'\n"
     ]
    }
   ],
   "source": [
    "import requests\n",
    "from bs4 import BeautifulSoup\n",
    "\n",
    "class IronhackSpider:\n",
    "    \"\"\"\n",
    "    This is the constructor class to which you can pass a bunch of parameters. \n",
    "    These parameters are stored to the class instance variables so that the\n",
    "    class functions can access them later.\n",
    "    \n",
    "    url_pattern: the regex pattern of the web urls to scape\n",
    "    pages_to_scrape: how many pages to scrape\n",
    "    sleep_interval: the time interval in seconds to delay between requests. If <0, requests will not be delayed.\n",
    "    content_parser: a function reference that will extract the intended info from the scraped content.\n",
    "    \"\"\"\n",
    "    def __init__(self, url_pattern, pages_to_scrape=10, sleep_interval=-1, content_parser=None):\n",
    "        self.url_pattern = url_pattern\n",
    "        self.pages_to_scrape = pages_to_scrape\n",
    "        self.sleep_interval = sleep_interval\n",
    "        self.content_parser = content_parser\n",
    "    \n",
    "    \"\"\"\n",
    "    Scrape the content of a single url.\n",
    "    \"\"\"\n",
    "    def scrape_url(self, url):\n",
    "        response = requests.get(url)\n",
    "        result = self.content_parser(response.content)\n",
    "        self.output_results(result)\n",
    "    \n",
    "    \"\"\"\n",
    "    Export the scraped content. Right now it simply print out the results.\n",
    "    But in the future you can export the results into a text file or database.\n",
    "    \"\"\"\n",
    "    def output_results(self, r):\n",
    "        print(r)\n",
    "    \n",
    "    \"\"\"\n",
    "    After the class is instantiated, call this function to start the scraping jobs.\n",
    "    This function uses a FOR loop to call `scrape_url()` for each url to scrape.\n",
    "    \"\"\"\n",
    "    def kickstart(self):\n",
    "        for i in range(1, self.pages_to_scrape+1):\n",
    "            self.scrape_url(self.url_pattern % i)\n",
    "\n",
    "\n",
    "URL_PATTERN = 'http://quotes.toscrape.com/page/%s/' # regex pattern for the urls to scrape\n",
    "PAGES_TO_SCRAPE = 1 # how many webpages to scrapge\n",
    "\n",
    "\"\"\"\n",
    "This is a custom parser function you will complete in the challenge.\n",
    "Right now it simply returns the string passed to it. But in this lab\n",
    "you will complete this function so that it extracts the quotes.\n",
    "This function will be passed to the IronhackSpider class.\n",
    "\"\"\"\n",
    "def quotes_parser(content):\n",
    "    return content\n",
    "\n",
    "# Instantiate the IronhackSpider class\n",
    "my_spider = IronhackSpider(URL_PATTERN, PAGES_TO_SCRAPE, content_parser=quotes_parser)\n",
    "\n",
    "# Start scraping jobs\n",
    "my_spider.kickstart()"
   ]
  },
  {
   "cell_type": "markdown",
   "metadata": {},
   "source": [
    "## Challenge 1 - Custom Parser Function\n",
    "\n",
    "In this challenge, complete the custom `quotes_parser()` function so that the returned result contains the quote string instead of the whole html page content.\n",
    "\n",
    "In the cell below, write your updated `quotes_parser()` function and kickstart the spider. Make sure the results being printed contain a list of quote strings extracted from the html content."
   ]
  },
  {
   "cell_type": "code",
   "execution_count": 4,
   "metadata": {},
   "outputs": [],
   "source": [
    "# your code here\n",
    "def quotes_parser(content):\n",
    "    result = BeautifulSoup(content,'html.parser')\n",
    "    content = [i for i in result.find_all('span',attrs={'class':'text'})]\n",
    "    return content"
   ]
  },
  {
   "cell_type": "code",
   "execution_count": 5,
   "metadata": {},
   "outputs": [
    {
     "name": "stdout",
     "output_type": "stream",
     "text": [
      "[<span class=\"text\" itemprop=\"text\">“The world as we have created it is a process of our thinking. It cannot be changed without changing our thinking.”</span>, <span class=\"text\" itemprop=\"text\">“It is our choices, Harry, that show what we truly are, far more than our abilities.”</span>, <span class=\"text\" itemprop=\"text\">“There are only two ways to live your life. One is as though nothing is a miracle. The other is as though everything is a miracle.”</span>, <span class=\"text\" itemprop=\"text\">“The person, be it gentleman or lady, who has not pleasure in a good novel, must be intolerably stupid.”</span>, <span class=\"text\" itemprop=\"text\">“Imperfection is beauty, madness is genius and it's better to be absolutely ridiculous than absolutely boring.”</span>, <span class=\"text\" itemprop=\"text\">“Try not to become a man of success. Rather become a man of value.”</span>, <span class=\"text\" itemprop=\"text\">“It is better to be hated for what you are than to be loved for what you are not.”</span>, <span class=\"text\" itemprop=\"text\">“I have not failed. I've just found 10,000 ways that won't work.”</span>, <span class=\"text\" itemprop=\"text\">“A woman is like a tea bag; you never know how strong it is until it's in hot water.”</span>, <span class=\"text\" itemprop=\"text\">“A day without sunshine is like, you know, night.”</span>]\n"
     ]
    }
   ],
   "source": [
    "my_spider = IronhackSpider(URL_PATTERN, PAGES_TO_SCRAPE, content_parser=quotes_parser)\n",
    "my_spider.kickstart()"
   ]
  },
  {
   "cell_type": "markdown",
   "metadata": {},
   "source": [
    "## Challenge 2 - Error Handling\n",
    "\n",
    "In `IronhackSpider.scrape_url()`, catch any error that might occur when you make requests to scrape the webpage. This includes checking the response status code and catching http request errors such as timeout, SSL, and too many redirects.\n",
    "\n",
    "In the cell below, place your entire code including the updated `IronhackSpdier` class and the code to kickstart the spider."
   ]
  },
  {
   "cell_type": "code",
   "execution_count": 9,
   "metadata": {},
   "outputs": [],
   "source": [
    " \"\"\"\n",
    "    Scrape the content of a single url.\n",
    "    \"\"\"\n",
    "def scrape_url(self, url):\n",
    "    response = requests.get(url)\n",
    "    if response.status_code==200:\n",
    "        result = self.content_parser(response.content)\n",
    "        self.output_results(result)\n",
    "    elif respons.status_code==404:\n",
    "        raise 'Not found'\n",
    "    elif response.status_code==408:\n",
    "        raise 'timeout error'\n",
    "    elif response.status_code==500:\n",
    "        raise 'Server not returning anything'\n",
    "    else:\n",
    "        'error'"
   ]
  },
  {
   "cell_type": "markdown",
   "metadata": {},
   "source": [
    "# Challenge 3 - Sleep Interval\n",
    "\n",
    "In `IronhackSpider.kickstart()`, implement `sleep_interval`. You will check if `self.sleep_interval` is larger than 0. If so, tell the FOR loop to sleep the given amount of time before making the next request.\n",
    "\n",
    "In the cell below, place your entire code including the updated `IronhackSpdier` class and the code to kickstart the spider."
   ]
  },
  {
   "cell_type": "code",
   "execution_count": 10,
   "metadata": {},
   "outputs": [],
   "source": [
    "# your code here\n",
    "def kickstart(self):\n",
    "        for i in range(1, self.pages_to_scrape+1):\n",
    "            if self.sleep_interval > 0:\n",
    "                print(f'wating {abs(self.sleep_interval)} seconds')\n",
    "                time.sleep(abs(self.sleep_interval))\n",
    "            self.scrape_url(self.url_pattern % i)"
   ]
  },
  {
   "cell_type": "markdown",
   "metadata": {},
   "source": [
    "# Challenge 4 - Test Batch Scraping\n",
    "\n",
    "Change the `PAGES_TO_SCRAPE` value from `1` to `10`. Try if your code still works as intended to scrape 10 webpages. If there are errors in your code, fix them.\n",
    "\n",
    "In the cell below, place your entire code including the updated `IronhackSpdier` class and the code to kickstart the spider."
   ]
  },
  {
   "cell_type": "code",
   "execution_count": 12,
   "metadata": {
    "scrolled": true
   },
   "outputs": [
    {
     "name": "stdout",
     "output_type": "stream",
     "text": [
      "wating for 2 seconds\n",
      "[<span class=\"text\" itemprop=\"text\">“The world as we have created it is a process of our thinking. It cannot be changed without changing our thinking.”</span>, <span class=\"text\" itemprop=\"text\">“It is our choices, Harry, that show what we truly are, far more than our abilities.”</span>, <span class=\"text\" itemprop=\"text\">“There are only two ways to live your life. One is as though nothing is a miracle. The other is as though everything is a miracle.”</span>, <span class=\"text\" itemprop=\"text\">“The person, be it gentleman or lady, who has not pleasure in a good novel, must be intolerably stupid.”</span>, <span class=\"text\" itemprop=\"text\">“Imperfection is beauty, madness is genius and it's better to be absolutely ridiculous than absolutely boring.”</span>, <span class=\"text\" itemprop=\"text\">“Try not to become a man of success. Rather become a man of value.”</span>, <span class=\"text\" itemprop=\"text\">“It is better to be hated for what you are than to be loved for what you are not.”</span>, <span class=\"text\" itemprop=\"text\">“I have not failed. I've just found 10,000 ways that won't work.”</span>, <span class=\"text\" itemprop=\"text\">“A woman is like a tea bag; you never know how strong it is until it's in hot water.”</span>, <span class=\"text\" itemprop=\"text\">“A day without sunshine is like, you know, night.”</span>]\n",
      "wating for 2 seconds\n",
      "[<span class=\"text\" itemprop=\"text\">“This life is what you make it. No matter what, you're going to mess up sometimes, it's a universal truth. But the good part is you get to decide how you're going to mess it up. Girls will be your friends - they'll act like it anyway. But just remember, some come, some go. The ones that stay with you through everything - they're your true best friends. Don't let go of them. Also remember, sisters make the best friends in the world. As for lovers, well, they'll come and go too. And baby, I hate to say it, most of them - actually pretty much all of them are going to break your heart, but you can't give up because if you give up, you'll never find your soulmate. You'll never find that half who makes you whole and that goes for everything. Just because you fail once, doesn't mean you're gonna fail at everything. Keep trying, hold on, and always, always, always believe in yourself, because if you don't, then who will, sweetie? So keep your head high, keep your chin up, and most importantly, keep smiling, because life's a beautiful thing and there's so much to smile about.”</span>, <span class=\"text\" itemprop=\"text\">“It takes a great deal of bravery to stand up to our enemies, but just as much to stand up to our friends.”</span>, <span class=\"text\" itemprop=\"text\">“If you can't explain it to a six year old, you don't understand it yourself.”</span>, <span class=\"text\" itemprop=\"text\">“You may not be her first, her last, or her only. She loved before she may love again. But if she loves you now, what else matters? She's not perfect—you aren't either, and the two of you may never be perfect together but if she can make you laugh, cause you to think twice, and admit to being human and making mistakes, hold onto her and give her the most you can. She may not be thinking about you every second of the day, but she will give you a part of her that she knows you can break—her heart. So don't hurt her, don't change her, don't analyze and don't expect more than she can give. Smile when she makes you happy, let her know when she makes you mad, and miss her when she's not there.”</span>, <span class=\"text\" itemprop=\"text\">“I like nonsense, it wakes up the brain cells. Fantasy is a necessary ingredient in living.”</span>, <span class=\"text\" itemprop=\"text\">“I may not have gone where I intended to go, but I think I have ended up where I needed to be.”</span>, <span class=\"text\" itemprop=\"text\">“The opposite of love is not hate, it's indifference. The opposite of art is not ugliness, it's indifference. The opposite of faith is not heresy, it's indifference. And the opposite of life is not death, it's indifference.”</span>, <span class=\"text\" itemprop=\"text\">“It is not a lack of love, but a lack of friendship that makes unhappy marriages.”</span>, <span class=\"text\" itemprop=\"text\">“Good friends, good books, and a sleepy conscience: this is the ideal life.”</span>, <span class=\"text\" itemprop=\"text\">“Life is what happens to us while we are making other plans.”</span>]\n",
      "wating for 2 seconds\n",
      "[<span class=\"text\" itemprop=\"text\">“I love you without knowing how, or when, or from where. I love you simply, without problems or pride: I love you in this way because I do not know any other way of loving but this, in which there is no I or you, so intimate that your hand upon my chest is my hand, so intimate that when I fall asleep your eyes close.”</span>, <span class=\"text\" itemprop=\"text\">“For every minute you are angry you lose sixty seconds of happiness.”</span>, <span class=\"text\" itemprop=\"text\">“If you judge people, you have no time to love them.”</span>, <span class=\"text\" itemprop=\"text\">“Anyone who thinks sitting in church can make you a Christian must also think that sitting in a garage can make you a car.”</span>, <span class=\"text\" itemprop=\"text\">“Beauty is in the eye of the beholder and it may be necessary from time to time to give a stupid or misinformed beholder a black eye.”</span>, <span class=\"text\" itemprop=\"text\">“Today you are You, that is truer than true. There is no one alive who is Youer than You.”</span>, <span class=\"text\" itemprop=\"text\">“If you want your children to be intelligent, read them fairy tales. If you want them to be more intelligent, read them more fairy tales.”</span>, <span class=\"text\" itemprop=\"text\">“It is impossible to live without failing at something, unless you live so cautiously that you might as well not have lived at all - in which case, you fail by default.”</span>, <span class=\"text\" itemprop=\"text\">“Logic will get you from A to Z; imagination will get you everywhere.”</span>, <span class=\"text\" itemprop=\"text\">“One good thing about music, when it hits you, you feel no pain.”</span>]\n",
      "wating for 2 seconds\n",
      "[<span class=\"text\" itemprop=\"text\">“The more that you read, the more things you will know. The more that you learn, the more places you'll go.”</span>, <span class=\"text\" itemprop=\"text\">“Of course it is happening inside your head, Harry, but why on earth should that mean that it is not real?”</span>, <span class=\"text\" itemprop=\"text\">“The truth is, everyone is going to hurt you. You just got to find the ones worth suffering for.”</span>, <span class=\"text\" itemprop=\"text\">“Not all of us can do great things. But we can do small things with great love.”</span>, <span class=\"text\" itemprop=\"text\">“To the well-organized mind, death is but the next great adventure.”</span>, <span class=\"text\" itemprop=\"text\">“All you need is love. But a little chocolate now and then doesn't hurt.”</span>, <span class=\"text\" itemprop=\"text\">“We read to know we're not alone.”</span>, <span class=\"text\" itemprop=\"text\">“Any fool can know. The point is to understand.”</span>, <span class=\"text\" itemprop=\"text\">“I have always imagined that Paradise will be a kind of library.”</span>, <span class=\"text\" itemprop=\"text\">“It is never too late to be what you might have been.”</span>]\n",
      "wating for 2 seconds\n",
      "[<span class=\"text\" itemprop=\"text\">“A reader lives a thousand lives before he dies, said Jojen. The man who never reads lives only one.”</span>, <span class=\"text\" itemprop=\"text\">“You can never get a cup of tea large enough or a book long enough to suit me.”</span>, <span class=\"text\" itemprop=\"text\">“You believe lies so you eventually learn to trust no one but yourself.”</span>, <span class=\"text\" itemprop=\"text\">“If you can make a woman laugh, you can make her do anything.”</span>, <span class=\"text\" itemprop=\"text\">“Life is like riding a bicycle. To keep your balance, you must keep moving.”</span>, <span class=\"text\" itemprop=\"text\">“The real lover is the man who can thrill you by kissing your forehead or smiling into your eyes or just staring into space.”</span>, <span class=\"text\" itemprop=\"text\">“A wise girl kisses but doesn't love, listens but doesn't believe, and leaves before she is left.”</span>, <span class=\"text\" itemprop=\"text\">“Only in the darkness can you see the stars.”</span>, <span class=\"text\" itemprop=\"text\">“It matters not what someone is born, but what they grow to be.”</span>, <span class=\"text\" itemprop=\"text\">“Love does not begin and end the way we seem to think it does. Love is a battle, love is a war; love is a growing up.”</span>]\n",
      "wating for 2 seconds\n"
     ]
    },
    {
     "name": "stdout",
     "output_type": "stream",
     "text": [
      "[<span class=\"text\" itemprop=\"text\">“There is nothing I would not do for those who are really my friends. I have no notion of loving people by halves, it is not my nature.”</span>, <span class=\"text\" itemprop=\"text\">“Do one thing every day that scares you.”</span>, <span class=\"text\" itemprop=\"text\">“I am good, but not an angel. I do sin, but I am not the devil. I am just a small girl in a big world trying to find someone to love.”</span>, <span class=\"text\" itemprop=\"text\">“If I were not a physicist, I would probably be a musician. I often think in music. I live my daydreams in music. I see my life in terms of music.”</span>, <span class=\"text\" itemprop=\"text\">“If you only read the books that everyone else is reading, you can only think what everyone else is thinking.”</span>, <span class=\"text\" itemprop=\"text\">“The difference between genius and stupidity is: genius has its limits.”</span>, <span class=\"text\" itemprop=\"text\">“He's like a drug for you, Bella.”</span>, <span class=\"text\" itemprop=\"text\">“There is no friend as loyal as a book.”</span>, <span class=\"text\" itemprop=\"text\">“When one door of happiness closes, another opens; but often we look so long at the closed door that we do not see the one which has been opened for us.”</span>, <span class=\"text\" itemprop=\"text\">“Life isn't about finding yourself. Life is about creating yourself.”</span>]\n",
      "wating for 2 seconds\n",
      "[<span class=\"text\" itemprop=\"text\">“That's the problem with drinking, I thought, as I poured myself a drink. If something bad happens you drink in an attempt to forget; if something good happens you drink in order to celebrate; and if nothing happens you drink to make something happen.”</span>, <span class=\"text\" itemprop=\"text\">“You don’t forget the face of the person who was your last hope.”</span>, <span class=\"text\" itemprop=\"text\">“Remember, we're madly in love, so it's all right to kiss me anytime you feel like it.”</span>, <span class=\"text\" itemprop=\"text\">“To love at all is to be vulnerable. Love anything and your heart will be wrung and possibly broken. If you want to make sure of keeping it intact you must give it to no one, not even an animal. Wrap it carefully round with hobbies and little luxuries; avoid all entanglements. Lock it up safe in the casket or coffin of your selfishness. But in that casket, safe, dark, motionless, airless, it will change. It will not be broken; it will become unbreakable, impenetrable, irredeemable. To love is to be vulnerable.”</span>, <span class=\"text\" itemprop=\"text\">“Not all those who wander are lost.”</span>, <span class=\"text\" itemprop=\"text\">“Do not pity the dead, Harry. Pity the living, and, above all those who live without love.”</span>, <span class=\"text\" itemprop=\"text\">“There is nothing to writing. All you do is sit down at a typewriter and bleed.”</span>, <span class=\"text\" itemprop=\"text\">“Finish each day and be done with it. You have done what you could. Some blunders and absurdities no doubt crept in; forget them as soon as you can. Tomorrow is a new day. You shall begin it serenely and with too high a spirit to be encumbered with your old nonsense.”</span>, <span class=\"text\" itemprop=\"text\">“I have never let my schooling interfere with my education.”</span>, <span class=\"text\" itemprop=\"text\">“I have heard there are troubles of more than one kind. Some come from ahead and some come from behind. But I've bought a big bat. I'm all ready you see. Now my troubles are going to have troubles with me!”</span>]\n",
      "wating for 2 seconds\n",
      "[<span class=\"text\" itemprop=\"text\">“If I had a flower for every time I thought of you...I could walk through my garden forever.”</span>, <span class=\"text\" itemprop=\"text\">“Some people never go crazy. What truly horrible lives they must lead.”</span>, <span class=\"text\" itemprop=\"text\">“The trouble with having an open mind, of course, is that people will insist on coming along and trying to put things in it.”</span>, <span class=\"text\" itemprop=\"text\">“Think left and think right and think low and think high. Oh, the thinks you can think up if only you try!”</span>, <span class=\"text\" itemprop=\"text\">“What really knocks me out is a book that, when you're all done reading it, you wish the author that wrote it was a terrific friend of yours and you could call him up on the phone whenever you felt like it. That doesn't happen much, though.”</span>, <span class=\"text\" itemprop=\"text\">“The reason I talk to myself is because I’m the only one whose answers I accept.”</span>, <span class=\"text\" itemprop=\"text\">“You may say I'm a dreamer, but I'm not the only one. I hope someday you'll join us. And the world will live as one.”</span>, <span class=\"text\" itemprop=\"text\">“I am free of all prejudice. I hate everyone equally. ”</span>, <span class=\"text\" itemprop=\"text\">“The question isn't who is going to let me; it's who is going to stop me.”</span>, <span class=\"text\" itemprop=\"text\">“′Classic′ - a book which people praise and don't read.”</span>]\n",
      "wating for 2 seconds\n",
      "[<span class=\"text\" itemprop=\"text\">“Anyone who has never made a mistake has never tried anything new.”</span>, <span class=\"text\" itemprop=\"text\">“A lady's imagination is very rapid; it jumps from admiration to love, from love to matrimony in a moment.”</span>, <span class=\"text\" itemprop=\"text\">“Remember, if the time should come when you have to make a choice between what is right and what is easy, remember what happened to a boy who was good, and kind, and brave, because he strayed across the path of Lord Voldemort. Remember Cedric Diggory.”</span>, <span class=\"text\" itemprop=\"text\">“I declare after all there is no enjoyment like reading! How much sooner one tires of any thing than of a book! -- When I have a house of my own, I shall be miserable if I have not an excellent library.”</span>, <span class=\"text\" itemprop=\"text\">“There are few people whom I really love, and still fewer of whom I think well. The more I see of the world, the more am I dissatisfied with it; and every day confirms my belief of the inconsistency of all human characters, and of the little dependence that can be placed on the appearance of merit or sense.”</span>, <span class=\"text\" itemprop=\"text\">“Some day you will be old enough to start reading fairy tales again.”</span>, <span class=\"text\" itemprop=\"text\">“We are not necessarily doubting that God will do the best for us; we are wondering how painful the best will turn out to be.”</span>, <span class=\"text\" itemprop=\"text\">“The fear of death follows from the fear of life. A man who lives fully is prepared to die at any time.”</span>, <span class=\"text\" itemprop=\"text\">“A lie can travel half way around the world while the truth is putting on its shoes.”</span>, <span class=\"text\" itemprop=\"text\">“I believe in Christianity as I believe that the sun has risen: not only because I see it, but because by it I see everything else.”</span>]\n",
      "wating for 2 seconds\n",
      "[<span class=\"text\" itemprop=\"text\">“The truth.\" Dumbledore sighed. \"It is a beautiful and terrible thing, and should therefore be treated with great caution.”</span>, <span class=\"text\" itemprop=\"text\">“I'm the one that's got to die when it's time for me to die, so let me live my life the way I want to.”</span>, <span class=\"text\" itemprop=\"text\">“To die will be an awfully big adventure.”</span>, <span class=\"text\" itemprop=\"text\">“It takes courage to grow up and become who you really are.”</span>, <span class=\"text\" itemprop=\"text\">“But better to get hurt by the truth than comforted with a lie.”</span>, <span class=\"text\" itemprop=\"text\">“You never really understand a person until you consider things from his point of view... Until you climb inside of his skin and walk around in it.”</span>, <span class=\"text\" itemprop=\"text\">“You have to write the book that wants to be written. And if the book will be too difficult for grown-ups, then you write it for children.”</span>, <span class=\"text\" itemprop=\"text\">“Never tell the truth to people who are not worthy of it.”</span>, <span class=\"text\" itemprop=\"text\">“A person's a person, no matter how small.”</span>, <span class=\"text\" itemprop=\"text\">“... a mind needs books as a sword needs a whetstone, if it is to keep its edge.”</span>]\n"
     ]
    }
   ],
   "source": [
    "# your code here\n",
    "# your code here\n",
    "\n",
    "import requests\n",
    "import time\n",
    "from bs4 import BeautifulSoup\n",
    "\n",
    "class IronhackSpider:\n",
    "    \"\"\"\n",
    "    This is the constructor class to which you can pass a bunch of parameters. \n",
    "    These parameters are stored to the class instance variables so that the\n",
    "    class functions can access them later.\n",
    "    \n",
    "    url_pattern: the regex pattern of the web urls to scape\n",
    "    pages_to_scrape: how many pages to scrape\n",
    "    sleep_interval: the time interval in seconds to delay between requests. If <0, requests will not be delayed.\n",
    "    content_parser: a function reference that will extract the intended info from the scraped content.\n",
    "    \"\"\"\n",
    "    def __init__(self, url_pattern, pages_to_scrape=10, sleep_interval=-1, content_parser=None):\n",
    "        self.url_pattern = url_pattern\n",
    "        self.pages_to_scrape = pages_to_scrape\n",
    "        self.sleep_interval = sleep_interval\n",
    "        self.content_parser = content_parser\n",
    "    \n",
    "    \"\"\"\n",
    "    Scrape the content of a single url.\n",
    "    \"\"\"\n",
    "    def scrape_url(self, url):\n",
    "        response = requests.get(url)\n",
    "        if response.status_code==200:\n",
    "            result = self.content_parser(response.content)\n",
    "            self.output_results(result)\n",
    "        elif respons.status_code==404:\n",
    "            raise 'Not found'\n",
    "        elif response.status_code==408:\n",
    "            raise 'timeout error'\n",
    "        elif response.status_code==500:\n",
    "            raise 'Server not returning anything'\n",
    "        else:\n",
    "            'error'\n",
    "\n",
    "        \n",
    "    \n",
    "    \"\"\"\n",
    "    Export the scraped content. Right now it simply print out the results.\n",
    "    But in the future you can export the results into a text file or database.\n",
    "    \"\"\"\n",
    "    def output_results(self, r):\n",
    "        print(r)\n",
    "    \n",
    "    \"\"\"\n",
    "    After the class is instantiated, call this function to start the scraping jobs.\n",
    "    This function uses a FOR loop to call `scrape_url()` for each url to scrape.\n",
    "    \"\"\"\n",
    "    def kickstart(self):\n",
    "        for i in range(1, self.pages_to_scrape+1):\n",
    "            if self.sleep_interval > 0:\n",
    "                print(f'wating for {abs(self.sleep_interval)} seconds')\n",
    "                time.sleep(abs(self.sleep_interval))\n",
    "            self.scrape_url(self.url_pattern % i)\n",
    "\n",
    "\n",
    "URL_PATTERN = 'http://quotes.toscrape.com/page/%s/' # regex pattern for the urls to scrape\n",
    "PAGES_TO_SCRAPE = 10 # how many webpages to scrapge\n",
    "\n",
    "\"\"\"\n",
    "This is a custom parser function you will complete in the challenge.\n",
    "Right now it simply returns the string passed to it. But in this lab\n",
    "you will complete this function so that it extracts the quotes.\n",
    "This function will be passed to the IronhackSpider class.\n",
    "\"\"\"\n",
    "def quotes_parser(content):\n",
    "    result = BeautifulSoup(content,'html.parser')\n",
    "    content = [i for i in result.find_all('span',attrs={'class':'text'})]\n",
    "    return content\n",
    "\n",
    "# Instantiate the IronhackSpider class\n",
    "my_spider = IronhackSpider(URL_PATTERN, PAGES_TO_SCRAPE, content_parser=quotes_parser,sleep_interval=2)\n",
    "\n",
    "# Start scraping jobs\n",
    "my_spider.kickstart()"
   ]
  },
  {
   "cell_type": "markdown",
   "metadata": {},
   "source": [
    "# Challenge 5 - Scrape a Different Website\n",
    "\n",
    "Update the parameters passed to the `IronhackSpider` constructor so that you coder can crawl [books.toscrape.com](http://books.toscrape.com/). You will need to use a different `URL_PATTERN` (figure out the new url pattern by yourself) and write another parser function to be passed to `IronhackSpider`. \n",
    "\n",
    "In the cell below, place your entire code including the updated `IronhackSpdier` class and the code to kickstart the spider."
   ]
  },
  {
   "cell_type": "code",
   "execution_count": 15,
   "metadata": {},
   "outputs": [
    {
     "name": "stdout",
     "output_type": "stream",
     "text": [
      "wating for 2 seconds\n",
      "[<a href=\"a-light-in-the-attic_1000/index.html\" title=\"A Light in the Attic\">A Light in the ...</a>, <a href=\"tipping-the-velvet_999/index.html\" title=\"Tipping the Velvet\">Tipping the Velvet</a>, <a href=\"soumission_998/index.html\" title=\"Soumission\">Soumission</a>, <a href=\"sharp-objects_997/index.html\" title=\"Sharp Objects\">Sharp Objects</a>, <a href=\"sapiens-a-brief-history-of-humankind_996/index.html\" title=\"Sapiens: A Brief History of Humankind\">Sapiens: A Brief History ...</a>, <a href=\"the-requiem-red_995/index.html\" title=\"The Requiem Red\">The Requiem Red</a>, <a href=\"the-dirty-little-secrets-of-getting-your-dream-job_994/index.html\" title=\"The Dirty Little Secrets of Getting Your Dream Job\">The Dirty Little Secrets ...</a>, <a href=\"the-coming-woman-a-novel-based-on-the-life-of-the-infamous-feminist-victoria-woodhull_993/index.html\" title=\"The Coming Woman: A Novel Based on the Life of the Infamous Feminist, Victoria Woodhull\">The Coming Woman: A ...</a>, <a href=\"the-boys-in-the-boat-nine-americans-and-their-epic-quest-for-gold-at-the-1936-berlin-olympics_992/index.html\" title=\"The Boys in the Boat: Nine Americans and Their Epic Quest for Gold at the 1936 Berlin Olympics\">The Boys in the ...</a>, <a href=\"the-black-maria_991/index.html\" title=\"The Black Maria\">The Black Maria</a>, <a href=\"starving-hearts-triangular-trade-trilogy-1_990/index.html\" title=\"Starving Hearts (Triangular Trade Trilogy, #1)\">Starving Hearts (Triangular Trade ...</a>, <a href=\"shakespeares-sonnets_989/index.html\" title=\"Shakespeare's Sonnets\">Shakespeare's Sonnets</a>, <a href=\"set-me-free_988/index.html\" title=\"Set Me Free\">Set Me Free</a>, <a href=\"scott-pilgrims-precious-little-life-scott-pilgrim-1_987/index.html\" title=\"Scott Pilgrim's Precious Little Life (Scott Pilgrim #1)\">Scott Pilgrim's Precious Little ...</a>, <a href=\"rip-it-up-and-start-again_986/index.html\" title=\"Rip it Up and Start Again\">Rip it Up and ...</a>, <a href=\"our-band-could-be-your-life-scenes-from-the-american-indie-underground-1981-1991_985/index.html\" title=\"Our Band Could Be Your Life: Scenes from the American Indie Underground, 1981-1991\">Our Band Could Be ...</a>, <a href=\"olio_984/index.html\" title=\"Olio\">Olio</a>, <a href=\"mesaerion-the-best-science-fiction-stories-1800-1849_983/index.html\" title=\"Mesaerion: The Best Science Fiction Stories 1800-1849\">Mesaerion: The Best Science ...</a>, <a href=\"libertarianism-for-beginners_982/index.html\" title=\"Libertarianism for Beginners\">Libertarianism for Beginners</a>, <a href=\"its-only-the-himalayas_981/index.html\" title=\"It's Only the Himalayas\">It's Only the Himalayas</a>, <a href=\"page-2.html\">next</a>]\n",
      "wating for 2 seconds\n",
      "[<a href=\"in-her-wake_980/index.html\" title=\"In Her Wake\">In Her Wake</a>, <a href=\"how-music-works_979/index.html\" title=\"How Music Works\">How Music Works</a>, <a href=\"foolproof-preserving-a-guide-to-small-batch-jams-jellies-pickles-condiments-and-more-a-foolproof-guide-to-making-small-batch-jams-jellies-pickles-condiments-and-more_978/index.html\" title=\"Foolproof Preserving: A Guide to Small Batch Jams, Jellies, Pickles, Condiments, and More: A Foolproof Guide to Making Small Batch Jams, Jellies, Pickles, Condiments, and More\">Foolproof Preserving: A Guide ...</a>, <a href=\"chase-me-paris-nights-2_977/index.html\" title=\"Chase Me (Paris Nights #2)\">Chase Me (Paris Nights ...</a>, <a href=\"black-dust_976/index.html\" title=\"Black Dust\">Black Dust</a>, <a href=\"birdsong-a-story-in-pictures_975/index.html\" title=\"Birdsong: A Story in Pictures\">Birdsong: A Story in ...</a>, <a href=\"americas-cradle-of-quarterbacks-western-pennsylvanias-football-factory-from-johnny-unitas-to-joe-montana_974/index.html\" title=\"America's Cradle of Quarterbacks: Western Pennsylvania's Football Factory from Johnny Unitas to Joe Montana\">America's Cradle of Quarterbacks: ...</a>, <a href=\"aladdin-and-his-wonderful-lamp_973/index.html\" title=\"Aladdin and His Wonderful Lamp\">Aladdin and His Wonderful ...</a>, <a href=\"worlds-elsewhere-journeys-around-shakespeares-globe_972/index.html\" title=\"Worlds Elsewhere: Journeys Around Shakespeare’s Globe\">Worlds Elsewhere: Journeys Around ...</a>, <a href=\"wall-and-piece_971/index.html\" title=\"Wall and Piece\">Wall and Piece</a>, <a href=\"the-four-agreements-a-practical-guide-to-personal-freedom_970/index.html\" title=\"The Four Agreements: A Practical Guide to Personal Freedom\">The Four Agreements: A ...</a>, <a href=\"the-five-love-languages-how-to-express-heartfelt-commitment-to-your-mate_969/index.html\" title=\"The Five Love Languages: How to Express Heartfelt Commitment to Your Mate\">The Five Love Languages: ...</a>, <a href=\"the-elephant-tree_968/index.html\" title=\"The Elephant Tree\">The Elephant Tree</a>, <a href=\"the-bear-and-the-piano_967/index.html\" title=\"The Bear and the Piano\">The Bear and the ...</a>, <a href=\"sophies-world_966/index.html\" title=\"Sophie's World\">Sophie's World</a>, <a href=\"penny-maybe_965/index.html\" title=\"Penny Maybe\">Penny Maybe</a>, <a href=\"maude-1883-1993she-grew-up-with-the-country_964/index.html\" title=\"Maude (1883-1993):She Grew Up with the country\">Maude (1883-1993):She Grew Up ...</a>, <a href=\"in-a-dark-dark-wood_963/index.html\" title=\"In a Dark, Dark Wood\">In a Dark, Dark ...</a>, <a href=\"behind-closed-doors_962/index.html\" title=\"Behind Closed Doors\">Behind Closed Doors</a>, <a href=\"you-cant-bury-them-all-poems_961/index.html\" title=\"You can't bury them all: Poems\">You can't bury them ...</a>, <a href=\"page-1.html\">previous</a>, <a href=\"page-3.html\">next</a>]\n",
      "wating for 2 seconds\n",
      "[<a href=\"slow-states-of-collapse-poems_960/index.html\" title=\"Slow States of Collapse: Poems\">Slow States of Collapse: ...</a>, <a href=\"reasons-to-stay-alive_959/index.html\" title=\"Reasons to Stay Alive\">Reasons to Stay Alive</a>, <a href=\"private-paris-private-10_958/index.html\" title=\"Private Paris (Private #10)\">Private Paris (Private #10)</a>, <a href=\"higherselfie-wake-up-your-life-free-your-soul-find-your-tribe_957/index.html\" title=\"#HigherSelfie: Wake Up Your Life. Free Your Soul. Find Your Tribe.\">#HigherSelfie: Wake Up Your ...</a>, <a href=\"without-borders-wanderlove-1_956/index.html\" title=\"Without Borders (Wanderlove #1)\">Without Borders (Wanderlove #1)</a>, <a href=\"when-we-collided_955/index.html\" title=\"When We Collided\">When We Collided</a>, <a href=\"we-love-you-charlie-freeman_954/index.html\" title=\"We Love You, Charlie Freeman\">We Love You, Charlie ...</a>, <a href=\"untitled-collection-sabbath-poems-2014_953/index.html\" title=\"Untitled Collection: Sabbath Poems 2014\">Untitled Collection: Sabbath Poems ...</a>, <a href=\"unseen-city-the-majesty-of-pigeons-the-discreet-charm-of-snails-other-wonders-of-the-urban-wilderness_952/index.html\" title=\"Unseen City: The Majesty of Pigeons, the Discreet Charm of Snails &amp; Other Wonders of the Urban Wilderness\">Unseen City: The Majesty ...</a>, <a href=\"unicorn-tracks_951/index.html\" title=\"Unicorn Tracks\">Unicorn Tracks</a>, <a href=\"unbound-how-eight-technologies-made-us-human-transformed-society-and-brought-our-world-to-the-brink_950/index.html\" title=\"Unbound: How Eight Technologies Made Us Human, Transformed Society, and Brought Our World to the Brink\">Unbound: How Eight Technologies ...</a>, <a href=\"tsubasa-world-chronicle-2-tsubasa-world-chronicle-2_949/index.html\" title=\"Tsubasa: WoRLD CHRoNiCLE 2 (Tsubasa WoRLD CHRoNiCLE #2)\">Tsubasa: WoRLD CHRoNiCLE 2 ...</a>, <a href=\"throwing-rocks-at-the-google-bus-how-growth-became-the-enemy-of-prosperity_948/index.html\" title=\"Throwing Rocks at the Google Bus: How Growth Became the Enemy of Prosperity\">Throwing Rocks at the ...</a>, <a href=\"this-one-summer_947/index.html\" title=\"This One Summer\">This One Summer</a>, <a href=\"thirst_946/index.html\" title=\"Thirst\">Thirst</a>, <a href=\"the-torch-is-passed-a-harding-family-story_945/index.html\" title=\"The Torch Is Passed: A Harding Family Story\">The Torch Is Passed: ...</a>, <a href=\"the-secret-of-dreadwillow-carse_944/index.html\" title=\"The Secret of Dreadwillow Carse\">The Secret of Dreadwillow ...</a>, <a href=\"the-pioneer-woman-cooks-dinnertime-comfort-classics-freezer-food-16-minute-meals-and-other-delicious-ways-to-solve-supper_943/index.html\" title=\"The Pioneer Woman Cooks: Dinnertime: Comfort Classics, Freezer Food, 16-Minute Meals, and Other Delicious Ways to Solve Supper!\">The Pioneer Woman Cooks: ...</a>, <a href=\"the-past-never-ends_942/index.html\" title=\"The Past Never Ends\">The Past Never Ends</a>, <a href=\"the-natural-history-of-us-the-fine-art-of-pretending-2_941/index.html\" title=\"The Natural History of Us (The Fine Art of Pretending #2)\">The Natural History of ...</a>, <a href=\"page-2.html\">previous</a>, <a href=\"page-4.html\">next</a>]\n",
      "wating for 2 seconds\n"
     ]
    },
    {
     "name": "stdout",
     "output_type": "stream",
     "text": [
      "[<a href=\"the-nameless-city-the-nameless-city-1_940/index.html\" title=\"The Nameless City (The Nameless City #1)\">The Nameless City (The ...</a>, <a href=\"the-murder-that-never-was-forensic-instincts-5_939/index.html\" title=\"The Murder That Never Was (Forensic Instincts #5)\">The Murder That Never ...</a>, <a href=\"the-most-perfect-thing-inside-and-outside-a-birds-egg_938/index.html\" title=\"The Most Perfect Thing: Inside (and Outside) a Bird's Egg\">The Most Perfect Thing: ...</a>, <a href=\"the-mindfulness-and-acceptance-workbook-for-anxiety-a-guide-to-breaking-free-from-anxiety-phobias-and-worry-using-acceptance-and-commitment-therapy_937/index.html\" title=\"The Mindfulness and Acceptance Workbook for Anxiety: A Guide to Breaking Free from Anxiety, Phobias, and Worry Using Acceptance and Commitment Therapy\">The Mindfulness and Acceptance ...</a>, <a href=\"the-life-changing-magic-of-tidying-up-the-japanese-art-of-decluttering-and-organizing_936/index.html\" title=\"The Life-Changing Magic of Tidying Up: The Japanese Art of Decluttering and Organizing\">The Life-Changing Magic of ...</a>, <a href=\"the-inefficiency-assassin-time-management-tactics-for-working-smarter-not-longer_935/index.html\" title=\"The Inefficiency Assassin: Time Management Tactics for Working Smarter, Not Longer\">The Inefficiency Assassin: Time ...</a>, <a href=\"the-gutsy-girl-escapades-for-your-life-of-epic-adventure_934/index.html\" title=\"The Gutsy Girl: Escapades for Your Life of Epic Adventure\">The Gutsy Girl: Escapades ...</a>, <a href=\"the-electric-pencil-drawings-from-inside-state-hospital-no-3_933/index.html\" title=\"The Electric Pencil: Drawings from Inside State Hospital No. 3\">The Electric Pencil: Drawings ...</a>, <a href=\"the-death-of-humanity-and-the-case-for-life_932/index.html\" title=\"The Death of Humanity: and the Case for Life\">The Death of Humanity: ...</a>, <a href=\"the-bulletproof-diet-lose-up-to-a-pound-a-day-reclaim-energy-and-focus-upgrade-your-life_931/index.html\" title=\"The Bulletproof Diet: Lose up to a Pound a Day, Reclaim Energy and Focus, Upgrade Your Life\">The Bulletproof Diet: Lose ...</a>, <a href=\"the-art-forger_930/index.html\" title=\"The Art Forger\">The Art Forger</a>, <a href=\"the-age-of-genius-the-seventeenth-century-and-the-birth-of-the-modern-mind_929/index.html\" title=\"The Age of Genius: The Seventeenth Century and the Birth of the Modern Mind\">The Age of Genius: ...</a>, <a href=\"the-activists-tao-te-ching-ancient-advice-for-a-modern-revolution_928/index.html\" title=\"The Activist's Tao Te Ching: Ancient Advice for a Modern Revolution\">The Activist's Tao Te ...</a>, <a href=\"spark-joy-an-illustrated-master-class-on-the-art-of-organizing-and-tidying-up_927/index.html\" title=\"Spark Joy: An Illustrated Master Class on the Art of Organizing and Tidying Up\">Spark Joy: An Illustrated ...</a>, <a href=\"soul-reader_926/index.html\" title=\"Soul Reader\">Soul Reader</a>, <a href=\"security_925/index.html\" title=\"Security\">Security</a>, <a href=\"saga-volume-6-saga-collected-editions-6_924/index.html\" title=\"Saga, Volume 6 (Saga (Collected Editions) #6)\">Saga, Volume 6 (Saga ...</a>, <a href=\"saga-volume-5-saga-collected-editions-5_923/index.html\" title=\"Saga, Volume 5 (Saga (Collected Editions) #5)\">Saga, Volume 5 (Saga ...</a>, <a href=\"reskilling-america-learning-to-labor-in-the-twenty-first-century_922/index.html\" title=\"Reskilling America: Learning to Labor in the Twenty-First Century\">Reskilling America: Learning to ...</a>, <a href=\"rat-queens-vol-3-demons-rat-queens-collected-editions-11-15_921/index.html\" title=\"Rat Queens, Vol. 3: Demons (Rat Queens (Collected Editions) #11-15)\">Rat Queens, Vol. 3: ...</a>, <a href=\"page-3.html\">previous</a>, <a href=\"page-5.html\">next</a>]\n",
      "wating for 2 seconds\n",
      "[<a href=\"princess-jellyfish-2-in-1-omnibus-vol-01-princess-jellyfish-2-in-1-omnibus-1_920/index.html\" title=\"Princess Jellyfish 2-in-1 Omnibus, Vol. 01 (Princess Jellyfish 2-in-1 Omnibus #1)\">Princess Jellyfish 2-in-1 Omnibus, ...</a>, <a href=\"princess-between-worlds-wide-awake-princess-5_919/index.html\" title=\"Princess Between Worlds (Wide-Awake Princess #5)\">Princess Between Worlds (Wide-Awake ...</a>, <a href=\"pop-gun-war-volume-1-gift_918/index.html\" title=\"Pop Gun War, Volume 1: Gift\">Pop Gun War, Volume ...</a>, <a href=\"political-suicide-missteps-peccadilloes-bad-calls-backroom-hijinx-sordid-pasts-rotten-breaks-and-just-plain-dumb-mistakes-in-the-annals-of-american-politics_917/index.html\" title=\"Political Suicide: Missteps, Peccadilloes, Bad Calls, Backroom Hijinx, Sordid Pasts, Rotten Breaks, and Just Plain Dumb Mistakes in the Annals of American Politics\">Political Suicide: Missteps, Peccadilloes, ...</a>, <a href=\"patience_916/index.html\" title=\"Patience\">Patience</a>, <a href=\"outcast-vol-1-a-darkness-surrounds-him-outcast-1_915/index.html\" title=\"Outcast, Vol. 1: A Darkness Surrounds Him (Outcast #1)\">Outcast, Vol. 1: A ...</a>, <a href=\"orange-the-complete-collection-1-orange-the-complete-collection-1_914/index.html\" title=\"orange: The Complete Collection 1 (orange: The Complete Collection #1)\">orange: The Complete Collection ...</a>, <a href=\"online-marketing-for-busy-authors-a-step-by-step-guide_913/index.html\" title=\"Online Marketing for Busy Authors: A Step-By-Step Guide\">Online Marketing for Busy ...</a>, <a href=\"on-a-midnight-clear_912/index.html\" title=\"On a Midnight Clear\">On a Midnight Clear</a>, <a href=\"obsidian-lux-1_911/index.html\" title=\"Obsidian (Lux #1)\">Obsidian (Lux #1)</a>, <a href=\"my-paris-kitchen-recipes-and-stories_910/index.html\" title=\"My Paris Kitchen: Recipes and Stories\">My Paris Kitchen: Recipes ...</a>, <a href=\"masks-and-shadows_909/index.html\" title=\"Masks and Shadows\">Masks and Shadows</a>, <a href=\"mama-tried-traditional-italian-cooking-for-the-screwed-crude-vegan-and-tattooed_908/index.html\" title=\"Mama Tried: Traditional Italian Cooking for the Screwed, Crude, Vegan, and Tattooed\">Mama Tried: Traditional Italian ...</a>, <a href=\"lumberjanes-vol-2-friendship-to-the-max-lumberjanes-5-8_907/index.html\" title=\"Lumberjanes, Vol. 2: Friendship to the Max (Lumberjanes #5-8)\">Lumberjanes, Vol. 2: Friendship ...</a>, <a href=\"lumberjanes-vol-1-beware-the-kitten-holy-lumberjanes-1-4_906/index.html\" title=\"Lumberjanes, Vol. 1: Beware the Kitten Holy (Lumberjanes #1-4)\">Lumberjanes, Vol. 1: Beware ...</a>, <a href=\"lumberjanes-vol-3-a-terrible-plan-lumberjanes-9-12_905/index.html\" title=\"Lumberjanes Vol. 3: A Terrible Plan (Lumberjanes #9-12)\">Lumberjanes Vol. 3: A ...</a>, <a href=\"layered-baking-building-and-styling-spectacular-cakes_904/index.html\" title=\"Layered: Baking, Building, and Styling Spectacular Cakes\">Layered: Baking, Building, and ...</a>, <a href=\"judo-seven-steps-to-black-belt-an-introductory-guide-for-beginners_903/index.html\" title=\"Judo: Seven Steps to Black Belt (an Introductory Guide for Beginners)\">Judo: Seven Steps to ...</a>, <a href=\"join_902/index.html\" title=\"Join\">Join</a>, <a href=\"in-the-country-we-love-my-family-divided_901/index.html\" title=\"In the Country We Love: My Family Divided\">In the Country We ...</a>, <a href=\"page-4.html\">previous</a>, <a href=\"page-6.html\">next</a>]\n",
      "wating for 2 seconds\n",
      "[<a href=\"immunity-how-elie-metchnikoff-changed-the-course-of-modern-medicine_900/index.html\" title=\"Immunity: How Elie Metchnikoff Changed the Course of Modern Medicine\">Immunity: How Elie Metchnikoff ...</a>, <a href=\"i-hate-fairyland-vol-1-madly-ever-after-i-hate-fairyland-compilations-1-5_899/index.html\" title=\"I Hate Fairyland, Vol. 1: Madly Ever After (I Hate Fairyland (Compilations) #1-5)\">I Hate Fairyland, Vol. ...</a>, <a href=\"i-am-a-hero-omnibus-volume-1_898/index.html\" title=\"I am a Hero Omnibus Volume 1\">I am a Hero ...</a>, <a href=\"how-to-be-miserable-40-strategies-you-already-use_897/index.html\" title=\"How to Be Miserable: 40 Strategies You Already Use\">How to Be Miserable: ...</a>, <a href=\"her-backup-boyfriend-the-sorensen-family-1_896/index.html\" title=\"Her Backup Boyfriend (The Sorensen Family #1)\">Her Backup Boyfriend (The ...</a>, <a href=\"giant-days-vol-2-giant-days-5-8_895/index.html\" title=\"Giant Days, Vol. 2 (Giant Days #5-8)\">Giant Days, Vol. 2 ...</a>, <a href=\"forever-and-forever-the-courtship-of-henry-longfellow-and-fanny-appleton_894/index.html\" title=\"Forever and Forever: The Courtship of Henry Longfellow and Fanny Appleton\">Forever and Forever: The ...</a>, <a href=\"first-and-first-five-boroughs-3_893/index.html\" title=\"First and First (Five Boroughs #3)\">First and First (Five ...</a>, <a href=\"fifty-shades-darker-fifty-shades-2_892/index.html\" title=\"Fifty Shades Darker (Fifty Shades #2)\">Fifty Shades Darker (Fifty ...</a>, <a href=\"everydata-the-misinformation-hidden-in-the-little-data-you-consume-every-day_891/index.html\" title=\"Everydata: The Misinformation Hidden in the Little Data You Consume Every Day\">Everydata: The Misinformation Hidden ...</a>, <a href=\"dont-be-a-jerk-and-other-practical-advice-from-dogen-japans-greatest-zen-master_890/index.html\" title=\"Don't Be a Jerk: And Other Practical Advice from Dogen, Japan's Greatest Zen Master\">Don't Be a Jerk: ...</a>, <a href=\"danganronpa-volume-1_889/index.html\" title=\"Danganronpa Volume 1\">Danganronpa Volume 1</a>, <a href=\"crown-of-midnight-throne-of-glass-2_888/index.html\" title=\"Crown of Midnight (Throne of Glass #2)\">Crown of Midnight (Throne ...</a>, <a href=\"codename-baboushka-volume-1-the-conclave-of-death_887/index.html\" title=\"Codename Baboushka, Volume 1: The Conclave of Death\">Codename Baboushka, Volume 1: ...</a>, <a href=\"camp-midnight_886/index.html\" title=\"Camp Midnight\">Camp Midnight</a>, <a href=\"call-the-nurse-true-stories-of-a-country-nurse-on-a-scottish-isle_885/index.html\" title=\"Call the Nurse: True Stories of a Country Nurse on a Scottish Isle\">Call the Nurse: True ...</a>, <a href=\"burning_884/index.html\" title=\"Burning\">Burning</a>, <a href=\"bossypants_883/index.html\" title=\"Bossypants\">Bossypants</a>, <a href=\"bitch-planet-vol-1-extraordinary-machine-bitch-planet-collected-editions_882/index.html\" title=\"Bitch Planet, Vol. 1: Extraordinary Machine (Bitch Planet (Collected Editions))\">Bitch Planet, Vol. 1: ...</a>, <a href=\"avatar-the-last-airbender-smoke-and-shadow-part-3-smoke-and-shadow-3_881/index.html\" title=\"Avatar: The Last Airbender: Smoke and Shadow, Part 3 (Smoke and Shadow #3)\">Avatar: The Last Airbender: ...</a>, <a href=\"page-5.html\">previous</a>, <a href=\"page-7.html\">next</a>]\n",
      "wating for 2 seconds\n"
     ]
    },
    {
     "name": "stdout",
     "output_type": "stream",
     "text": [
      "[<a href=\"algorithms-to-live-by-the-computer-science-of-human-decisions_880/index.html\" title=\"Algorithms to Live By: The Computer Science of Human Decisions\">Algorithms to Live By: ...</a>, <a href=\"a-world-of-flavor-your-gluten-free-passport_879/index.html\" title=\"A World of Flavor: Your Gluten Free Passport\">A World of Flavor: ...</a>, <a href=\"a-piece-of-sky-a-grain-of-rice-a-memoir-in-four-meditations_878/index.html\" title=\"A Piece of Sky, a Grain of Rice: A Memoir in Four Meditations\">A Piece of Sky, ...</a>, <a href=\"a-murder-in-time_877/index.html\" title=\"A Murder in Time\">A Murder in Time</a>, <a href=\"a-flight-of-arrows-the-pathfinders-2_876/index.html\" title=\"A Flight of Arrows (The Pathfinders #2)\">A Flight of Arrows ...</a>, <a href=\"a-fierce-and-subtle-poison_875/index.html\" title=\"A Fierce and Subtle Poison\">A Fierce and Subtle ...</a>, <a href=\"a-court-of-thorns-and-roses-a-court-of-thorns-and-roses-1_874/index.html\" title=\"A Court of Thorns and Roses (A Court of Thorns and Roses #1)\">A Court of Thorns ...</a>, <a href=\"unqualified-how-god-uses-broken-people-to-do-big-things_873/index.html\" title=\"(Un)Qualified: How God Uses Broken People to Do Big Things\">(Un)Qualified: How God Uses ...</a>, <a href=\"you-are-what-you-love-the-spiritual-power-of-habit_872/index.html\" title=\"You Are What You Love: The Spiritual Power of Habit\">You Are What You ...</a>, <a href=\"william-shakespeares-star-wars-verily-a-new-hope-william-shakespeares-star-wars-4_871/index.html\" title=\"William Shakespeare's Star Wars: Verily, A New Hope (William Shakespeare's Star Wars #4)\">William Shakespeare's Star Wars: ...</a>, <a href=\"tuesday-nights-in-1980_870/index.html\" title=\"Tuesday Nights in 1980\">Tuesday Nights in 1980</a>, <a href=\"tracing-numbers-on-a-train_869/index.html\" title=\"Tracing Numbers on a Train\">Tracing Numbers on a ...</a>, <a href=\"throne-of-glass-throne-of-glass-1_868/index.html\" title=\"Throne of Glass (Throne of Glass #1)\">Throne of Glass (Throne ...</a>, <a href=\"thomas-jefferson-and-the-tripoli-pirates-the-forgotten-war-that-changed-american-history_867/index.html\" title=\"Thomas Jefferson and the Tripoli Pirates: The Forgotten War That Changed American History\">Thomas Jefferson and the ...</a>, <a href=\"thirteen-reasons-why_866/index.html\" title=\"Thirteen Reasons Why\">Thirteen Reasons Why</a>, <a href=\"the-white-cat-and-the-monk-a-retelling-of-the-poem-pangur-ban_865/index.html\" title=\"The White Cat and the Monk: A Retelling of the Poem “Pangur Bán”\">The White Cat and ...</a>, <a href=\"the-wedding-dress_864/index.html\" title=\"The Wedding Dress\">The Wedding Dress</a>, <a href=\"the-vacationers_863/index.html\" title=\"The Vacationers\">The Vacationers</a>, <a href=\"the-third-wave-an-entrepreneurs-vision-of-the-future_862/index.html\" title=\"The Third Wave: An Entrepreneur’s Vision of the Future\">The Third Wave: An ...</a>, <a href=\"the-stranger_861/index.html\" title=\"The Stranger\">The Stranger</a>, <a href=\"page-6.html\">previous</a>, <a href=\"page-8.html\">next</a>]\n",
      "wating for 2 seconds\n",
      "[<a href=\"the-shadow-hero-the-shadow-hero_860/index.html\" title=\"The Shadow Hero (The Shadow Hero)\">The Shadow Hero (The ...</a>, <a href=\"the-secret-the-secret-1_859/index.html\" title=\"The Secret (The Secret #1)\">The Secret (The Secret ...</a>, <a href=\"the-regional-office-is-under-attack_858/index.html\" title=\"The Regional Office Is Under Attack!\">The Regional Office Is ...</a>, <a href=\"the-psychopath-test-a-journey-through-the-madness-industry_857/index.html\" title=\"The Psychopath Test: A Journey Through the Madness Industry\">The Psychopath Test: A ...</a>, <a href=\"the-project_856/index.html\" title=\"The Project\">The Project</a>, <a href=\"the-power-of-now-a-guide-to-spiritual-enlightenment_855/index.html\" title=\"The Power of Now: A Guide to Spiritual Enlightenment\">The Power of Now: ...</a>, <a href=\"the-omnivores-dilemma-a-natural-history-of-four-meals_854/index.html\" title=\"The Omnivore's Dilemma: A Natural History of Four Meals\">The Omnivore's Dilemma: A ...</a>, <a href=\"the-nerdy-nummies-cookbook-sweet-treats-for-the-geek-in-all-of-us_853/index.html\" title=\"The Nerdy Nummies Cookbook: Sweet Treats for the Geek in All of Us\">The Nerdy Nummies Cookbook: ...</a>, <a href=\"the-murder-of-roger-ackroyd-hercule-poirot-4_852/index.html\" title=\"The Murder of Roger Ackroyd (Hercule Poirot #4)\">The Murder of Roger ...</a>, <a href=\"the-mistake-off-campus-2_851/index.html\" title=\"The Mistake (Off-Campus #2)\">The Mistake (Off-Campus #2)</a>, <a href=\"the-matchmakers-playbook-wingmen-inc-1_850/index.html\" title=\"The Matchmaker's Playbook (Wingmen Inc. #1)\">The Matchmaker's Playbook (Wingmen ...</a>, <a href=\"the-love-and-lemons-cookbook-an-apple-to-zucchini-celebration-of-impromptu-cooking_849/index.html\" title=\"The Love and Lemons Cookbook: An Apple-to-Zucchini Celebration of Impromptu Cooking\">The Love and Lemons ...</a>, <a href=\"the-long-shadow-of-small-ghosts-murder-and-memory-in-an-american-city_848/index.html\" title=\"The Long Shadow of Small Ghosts: Murder and Memory in an American City\">The Long Shadow of ...</a>, <a href=\"the-kite-runner_847/index.html\" title=\"The Kite Runner\">The Kite Runner</a>, <a href=\"the-house-by-the-lake_846/index.html\" title=\"The House by the Lake\">The House by the ...</a>, <a href=\"the-glittering-court-the-glittering-court-1_845/index.html\" title=\"The Glittering Court (The Glittering Court #1)\">The Glittering Court (The ...</a>, <a href=\"the-girl-on-the-train_844/index.html\" title=\"The Girl on the Train\">The Girl on the ...</a>, <a href=\"the-genius-of-birds_843/index.html\" title=\"The Genius of Birds\">The Genius of Birds</a>, <a href=\"the-emerald-mystery_842/index.html\" title=\"The Emerald Mystery\">The Emerald Mystery</a>, <a href=\"the-cookies-cups-cookbook-125-sweet-savory-recipes-reminding-you-to-always-eat-dessert-first_841/index.html\" title=\"The Cookies &amp; Cups Cookbook: 125+ sweet &amp; savory recipes reminding you to Always Eat Dessert First\">The Cookies &amp; Cups ...</a>, <a href=\"page-7.html\">previous</a>, <a href=\"page-9.html\">next</a>]\n",
      "wating for 2 seconds\n",
      "[<a href=\"the-bridge-to-consciousness-im-writing-the-bridge-between-science-and-our-old-and-new-beliefs_840/index.html\" title=\"The Bridge to Consciousness: I'm Writing the Bridge Between Science and Our Old and New Beliefs.\">The Bridge to Consciousness: ...</a>, <a href=\"the-artists-way-a-spiritual-path-to-higher-creativity_839/index.html\" title=\"The Artist's Way: A Spiritual Path to Higher Creativity\">The Artist's Way: A ...</a>, <a href=\"the-art-of-war_838/index.html\" title=\"The Art of War\">The Art of War</a>, <a href=\"the-argonauts_837/index.html\" title=\"The Argonauts\">The Argonauts</a>, <a href=\"the-10-entrepreneur-live-your-startup-dream-without-quitting-your-day-job_836/index.html\" title=\"The 10% Entrepreneur: Live Your Startup Dream Without Quitting Your Day Job\">The 10% Entrepreneur: Live ...</a>, <a href=\"suddenly-in-love-lake-haven-1_835/index.html\" title=\"Suddenly in Love (Lake Haven #1)\">Suddenly in Love (Lake ...</a>, <a href=\"something-more-than-this_834/index.html\" title=\"Something More Than This\">Something More Than This</a>, <a href=\"soft-apocalypse_833/index.html\" title=\"Soft Apocalypse\">Soft Apocalypse</a>, <a href=\"so-youve-been-publicly-shamed_832/index.html\" title=\"So You've Been Publicly Shamed\">So You've Been Publicly ...</a>, <a href=\"shoe-dog-a-memoir-by-the-creator-of-nike_831/index.html\" title=\"Shoe Dog: A Memoir by the Creator of NIKE\">Shoe Dog: A Memoir ...</a>, <a href=\"shobu-samurai-project-aryoku-3_830/index.html\" title=\"Shobu Samurai, Project Aryoku (#3)\">Shobu Samurai, Project Aryoku ...</a>, <a href=\"secrets-and-lace-fatal-hearts-1_829/index.html\" title=\"Secrets and Lace (Fatal Hearts #1)\">Secrets and Lace (Fatal ...</a>, <a href=\"scarlett-epstein-hates-it-here_828/index.html\" title=\"Scarlett Epstein Hates It Here\">Scarlett Epstein Hates It ...</a>, <a href=\"romero-and-juliet-a-tragic-tale-of-love-and-zombies_827/index.html\" title=\"Romero and Juliet: A Tragic Tale of Love and Zombies\">Romero and Juliet: A ...</a>, <a href=\"redeeming-love_826/index.html\" title=\"Redeeming Love\">Redeeming Love</a>, <a href=\"poses-for-artists-volume-1-dynamic-and-sitting-poses-an-essential-reference-for-figure-drawing-and-the-human-form_825/index.html\" title=\"Poses for Artists Volume 1 - Dynamic and Sitting Poses: An Essential Reference for Figure Drawing and the Human Form\">Poses for Artists Volume ...</a>, <a href=\"poems-that-make-grown-women-cry_824/index.html\" title=\"Poems That Make Grown Women Cry\">Poems That Make Grown ...</a>, <a href=\"nightingale-sing_823/index.html\" title=\"Nightingale, Sing\">Nightingale, Sing</a>, <a href=\"night-sky-with-exit-wounds_822/index.html\" title=\"Night Sky with Exit Wounds\">Night Sky with Exit ...</a>, <a href=\"mrs-houdini_821/index.html\" title=\"Mrs. Houdini\">Mrs. Houdini</a>, <a href=\"page-8.html\">previous</a>, <a href=\"page-10.html\">next</a>]\n",
      "wating for 2 seconds\n"
     ]
    },
    {
     "name": "stdout",
     "output_type": "stream",
     "text": [
      "[<a href=\"modern-romance_820/index.html\" title=\"Modern Romance\">Modern Romance</a>, <a href=\"miss-peregrines-home-for-peculiar-children-miss-peregrines-peculiar-children-1_819/index.html\" title=\"Miss Peregrine’s Home for Peculiar Children (Miss Peregrine’s Peculiar Children #1)\">Miss Peregrine’s Home for ...</a>, <a href=\"louisa-the-extraordinary-life-of-mrs-adams_818/index.html\" title=\"Louisa: The Extraordinary Life of Mrs. Adams\">Louisa: The Extraordinary Life ...</a>, <a href=\"little-red_817/index.html\" title=\"Little Red\">Little Red</a>, <a href=\"library-of-souls-miss-peregrines-peculiar-children-3_816/index.html\" title=\"Library of Souls (Miss Peregrine’s Peculiar Children #3)\">Library of Souls (Miss ...</a>, <a href=\"large-print-heart-of-the-pride_815/index.html\" title=\"Large Print Heart of the Pride\">Large Print Heart of ...</a>, <a href=\"i-had-a-nice-time-and-other-lies-how-to-find-love-sht-like-that_814/index.html\" title=\"I Had a Nice Time And Other Lies...: How to find love &amp; sh*t like that\">I Had a Nice ...</a>, <a href=\"hollow-city-miss-peregrines-peculiar-children-2_813/index.html\" title=\"Hollow City (Miss Peregrine’s Peculiar Children #2)\">Hollow City (Miss Peregrine’s ...</a>, <a href=\"grumbles_812/index.html\" title=\"Grumbles\">Grumbles</a>, <a href=\"full-moon-over-noahs-ark-an-odyssey-to-mount-ararat-and-beyond_811/index.html\" title=\"Full Moon over Noah’s Ark: An Odyssey to Mount Ararat and Beyond\">Full Moon over Noah’s ...</a>, <a href=\"frostbite-vampire-academy-2_810/index.html\" title=\"Frostbite (Vampire Academy #2)\">Frostbite (Vampire Academy #2)</a>, <a href=\"follow-you-home_809/index.html\" title=\"Follow You Home\">Follow You Home</a>, <a href=\"first-steps-for-new-christians-print-edition_808/index.html\" title=\"First Steps for New Christians (Print Edition)\">First Steps for New ...</a>, <a href=\"finders-keepers-bill-hodges-trilogy-2_807/index.html\" title=\"Finders Keepers (Bill Hodges Trilogy #2)\">Finders Keepers (Bill Hodges ...</a>, <a href=\"fables-vol-1-legends-in-exile-fables-1_806/index.html\" title=\"Fables, Vol. 1: Legends in Exile (Fables #1)\">Fables, Vol. 1: Legends ...</a>, <a href=\"eureka-trivia-60_805/index.html\" title=\"Eureka Trivia 6.0\">Eureka Trivia 6.0</a>, <a href=\"drive-the-surprising-truth-about-what-motivates-us_804/index.html\" title=\"Drive: The Surprising Truth About What Motivates Us\">Drive: The Surprising Truth ...</a>, <a href=\"done-rubbed-out-reightman-bailey-1_803/index.html\" title=\"Done Rubbed Out (Reightman &amp; Bailey #1)\">Done Rubbed Out (Reightman ...</a>, <a href=\"doing-it-over-most-likely-to-1_802/index.html\" title=\"Doing It Over (Most Likely To #1)\">Doing It Over (Most ...</a>, <a href=\"deliciously-ella-every-day-quick-and-easy-recipes-for-gluten-free-snacks-packed-lunches-and-simple-meals_801/index.html\" title=\"Deliciously Ella Every Day: Quick and Easy Recipes for Gluten-Free Snacks, Packed Lunches, and Simple Meals\">Deliciously Ella Every Day: ...</a>, <a href=\"page-9.html\">previous</a>, <a href=\"page-11.html\">next</a>]\n"
     ]
    }
   ],
   "source": [
    "# your code here\n",
    "# your code here\n",
    "# your code here\n",
    "\n",
    "import requests\n",
    "import time\n",
    "from bs4 import BeautifulSoup\n",
    "\n",
    "class IronhackSpider:\n",
    "    \"\"\"\n",
    "    This is the constructor class to which you can pass a bunch of parameters. \n",
    "    These parameters are stored to the class instance variables so that the\n",
    "    class functions can access them later.\n",
    "    \n",
    "    url_pattern: the regex pattern of the web urls to scape\n",
    "    pages_to_scrape: how many pages to scrape\n",
    "    sleep_interval: the time interval in seconds to delay between requests. If <0, requests will not be delayed.\n",
    "    content_parser: a function reference that will extract the intended info from the scraped content.\n",
    "    \"\"\"\n",
    "    def __init__(self, url_pattern, pages_to_scrape=10, sleep_interval=-1, content_parser=None):\n",
    "        self.url_pattern = url_pattern\n",
    "        self.pages_to_scrape = pages_to_scrape\n",
    "        self.sleep_interval = sleep_interval\n",
    "        self.content_parser = content_parser\n",
    "    \n",
    "    \"\"\"\n",
    "    Scrape the content of a single url.\n",
    "    \"\"\"\n",
    "    def scrape_url(self, url):\n",
    "        response = requests.get(url)\n",
    "        if response.status_code==200:\n",
    "            result = self.content_parser(response.content)\n",
    "            self.output_results(result)\n",
    "        elif respons.status_code==404:\n",
    "            raise 'Not found'\n",
    "        elif response.status_code==408:\n",
    "            raise 'timeout error'\n",
    "        elif response.status_code==500:\n",
    "            raise 'Server not returning anything'\n",
    "        else:\n",
    "            'error'\n",
    "\n",
    "        \n",
    "    \n",
    "    \"\"\"\n",
    "    Export the scraped content. Right now it simply print out the results.\n",
    "    But in the future you can export the results into a text file or database.\n",
    "    \"\"\"\n",
    "    def output_results(self, r):\n",
    "        print(r)\n",
    "    \n",
    "    \"\"\"\n",
    "    After the class is instantiated, call this function to start the scraping jobs.\n",
    "    This function uses a FOR loop to call `scrape_url()` for each url to scrape.\n",
    "    \"\"\"\n",
    "    def kickstart(self):\n",
    "        for i in range(1, self.pages_to_scrape+1):\n",
    "            if self.sleep_interval > 0:\n",
    "                print(f'wating for {abs(self.sleep_interval)} seconds')\n",
    "                time.sleep(abs(self.sleep_interval))\n",
    "            self.scrape_url(self.url_pattern % i)\n",
    "\n",
    "\n",
    "URL_PATTERN = 'http://books.toscrape.com/catalogue/page-%s.html' # regex pattern for the urls to scrape\n",
    "PAGES_TO_SCRAPE = 10 # how many webpages to scrapge\n",
    "\n",
    "\"\"\"\n",
    "This is a custom parser function you will complete in the challenge.\n",
    "Right now it simply returns the string passed to it. But in this lab\n",
    "you will complete this function so that it extracts the quotes.\n",
    "This function will be passed to the IronhackSpider class.\n",
    "\"\"\"\n",
    "def quotes_parser(content):\n",
    "    result = BeautifulSoup(content,'html.parser')\n",
    "    content = [i for i in result.find('section').find_all('a') if i.text != '']\n",
    "    return content\n",
    "\n",
    "# Instantiate the IronhackSpider class\n",
    "my_spider = IronhackSpider(URL_PATTERN, PAGES_TO_SCRAPE, content_parser=quotes_parser,sleep_interval=2)\n",
    "\n",
    "# Start scraping jobs\n",
    "my_spider.kickstart()"
   ]
  },
  {
   "cell_type": "markdown",
   "metadata": {},
   "source": [
    "# Bonus Challenge 1 - Making Your Spider Unblockable\n",
    "\n",
    "Use techniques such as randomizing user agents and referers in your requests to reduce the likelihood that your spider is blocked by websites. [Here](http://blog.adnansiddiqi.me/5-strategies-to-write-unblock-able-web-scrapers-in-python/) is a great article to learn these techniques.\n",
    "\n",
    "In the cell below, place your entire code including the updated `IronhackSpdier` class and the code to kickstart the spider."
   ]
  },
  {
   "cell_type": "code",
   "execution_count": null,
   "metadata": {
    "collapsed": true
   },
   "outputs": [],
   "source": [
    "# your code here"
   ]
  }
 ],
 "metadata": {
  "kernelspec": {
   "display_name": "Python 3",
   "language": "python",
   "name": "python3"
  },
  "language_info": {
   "codemirror_mode": {
    "name": "ipython",
    "version": 3
   },
   "file_extension": ".py",
   "mimetype": "text/x-python",
   "name": "python",
   "nbconvert_exporter": "python",
   "pygments_lexer": "ipython3",
   "version": "3.8.8"
  },
  "latex_envs": {
   "LaTeX_envs_menu_present": true,
   "autoclose": false,
   "autocomplete": true,
   "bibliofile": "biblio.bib",
   "cite_by": "apalike",
   "current_citInitial": 1,
   "eqLabelWithNumbers": true,
   "eqNumInitial": 1,
   "hotkeys": {
    "equation": "Ctrl-E",
    "itemize": "Ctrl-I"
   },
   "labels_anchors": false,
   "latex_user_defs": false,
   "report_style_numbering": false,
   "user_envs_cfg": false
  },
  "toc": {
   "base_numbering": 1,
   "nav_menu": {},
   "number_sections": true,
   "sideBar": true,
   "skip_h1_title": false,
   "title_cell": "Table of Contents",
   "title_sidebar": "Contents",
   "toc_cell": false,
   "toc_position": {},
   "toc_section_display": true,
   "toc_window_display": false
  },
  "varInspector": {
   "cols": {
    "lenName": 16,
    "lenType": 16,
    "lenVar": 40
   },
   "kernels_config": {
    "python": {
     "delete_cmd_postfix": "",
     "delete_cmd_prefix": "del ",
     "library": "var_list.py",
     "varRefreshCmd": "print(var_dic_list())"
    },
    "r": {
     "delete_cmd_postfix": ") ",
     "delete_cmd_prefix": "rm(",
     "library": "var_list.r",
     "varRefreshCmd": "cat(var_dic_list()) "
    }
   },
   "types_to_exclude": [
    "module",
    "function",
    "builtin_function_or_method",
    "instance",
    "_Feature"
   ],
   "window_display": false
  }
 },
 "nbformat": 4,
 "nbformat_minor": 2
}
